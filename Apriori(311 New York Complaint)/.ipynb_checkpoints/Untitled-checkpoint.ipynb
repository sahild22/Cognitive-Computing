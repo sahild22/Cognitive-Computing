{
 "cells": [
  {
   "cell_type": "code",
   "execution_count": 2,
   "metadata": {
    "collapsed": false
   },
   "outputs": [
    {
     "name": "stdout",
     "output_type": "stream",
     "text": [
      "Enter Minimum Support Value (in %):- 50\n",
      "Enter Minimum Confidence Value (in %):- 50\n"
     ]
    }
   ],
   "source": [
    "import re\n",
    "import copy\n",
    "\n",
    "MinSupport=float(input(\"Enter Minimum Support Value (in %):- \"))\n",
    "MinConfidence=float(input(\"Enter Minimum Confidence Value (in %):- \"))\n",
    "\n",
    "# reading the file and storing Transactionactions in list\n",
    "with open(\"Transactions_Costco.txt\",'r') as fileData:\n",
    "        TransactionList=fileData.readlines()\n",
    "NoOfTransactions=len(TransactionList)\n",
    "Transaction=[]\n",
    "C={}\n",
    "suppDict={}\n",
    "Unit=[]\n",
    "Data=[]\n",
    "\n",
    "for line in TransactionList:\n",
    "    RefinedLine=re.sub(r'T\\d{1,5}',\"\",line).strip()\n",
    "    ItemsOfLine=RefinedLine.split(',')\n",
    "    Transaction.append(ItemsOfLine)\n",
    "    for Index in ItemsOfLine:\n",
    "        if (tuple([Index])) in C:\n",
    "            C[tuple([Index])]+=1\n",
    "        else:\n",
    "            C[tuple([Index])]=1\n",
    "\n",
    "# checking the minimum support value of the items\n",
    "Items=[]\n",
    "for Index in C:\n",
    "    if (C[Index]/NoOfTransactions)*100 >= MinSupport:\n",
    "        Items.append(Index)\n",
    "    \n",
    "# choosing the items with minimum support\n",
    "for Index in Items:\n",
    "    suppDict[Index]=C[Index]\n",
    "Data.append(suppDict)"
   ]
  },
  {
   "cell_type": "code",
   "execution_count": 3,
   "metadata": {
    "collapsed": false
   },
   "outputs": [
    {
     "data": {
      "text/plain": [
       "[('Cottonelle Ultra Comfort Care Jumbo Roll Toilet Paper',),\n",
       " ('Ziploc and Ziploc Slider Variety Pack',),\n",
       " ('NewAge 10-piece 18G Stainless Steel Pro Workshop/Garage Cabinetry Set',)]"
      ]
     },
     "execution_count": 3,
     "metadata": {},
     "output_type": "execute_result"
    }
   ],
   "source": [
    "Items"
   ]
  },
  {
   "cell_type": "code",
   "execution_count": null,
   "metadata": {
    "collapsed": true
   },
   "outputs": [],
   "source": []
  },
  {
   "cell_type": "raw",
   "metadata": {},
   "source": []
  },
  {
   "cell_type": "code",
   "execution_count": 4,
   "metadata": {
    "collapsed": false
   },
   "outputs": [
    {
     "data": {
      "text/plain": [
       "{('Cottonelle Ultra Comfort Care Jumbo Roll Toilet Paper',): 18,\n",
       " ('NewAge 10-piece 18G Stainless Steel Pro Workshop/Garage Cabinetry Set',): 15,\n",
       " ('Ziploc and Ziploc Slider Variety Pack',): 10}"
      ]
     },
     "execution_count": 4,
     "metadata": {},
     "output_type": "execute_result"
    }
   ],
   "source": [
    "suppDict"
   ]
  },
  {
   "cell_type": "code",
   "execution_count": 5,
   "metadata": {
    "collapsed": false
   },
   "outputs": [
    {
     "data": {
      "text/plain": [
       "[{('Cottonelle Ultra Comfort Care Jumbo Roll Toilet Paper',): 18,\n",
       "  ('NewAge 10-piece 18G Stainless Steel Pro Workshop/Garage Cabinetry Set',): 15,\n",
       "  ('Ziploc and Ziploc Slider Variety Pack',): 10}]"
      ]
     },
     "execution_count": 5,
     "metadata": {},
     "output_type": "execute_result"
    }
   ],
   "source": [
    "Data"
   ]
  },
  {
   "cell_type": "code",
   "execution_count": 6,
   "metadata": {
    "collapsed": true
   },
   "outputs": [],
   "source": [
    "for Index in Data[0]:\n",
    "    Unit.append(Index)"
   ]
  },
  {
   "cell_type": "code",
   "execution_count": 7,
   "metadata": {
    "collapsed": false
   },
   "outputs": [
    {
     "data": {
      "text/plain": [
       "[('Cottonelle Ultra Comfort Care Jumbo Roll Toilet Paper',),\n",
       " ('Ziploc and Ziploc Slider Variety Pack',),\n",
       " ('NewAge 10-piece 18G Stainless Steel Pro Workshop/Garage Cabinetry Set',)]"
      ]
     },
     "execution_count": 7,
     "metadata": {},
     "output_type": "execute_result"
    }
   ],
   "source": [
    "Unit"
   ]
  },
  {
   "cell_type": "code",
   "execution_count": 8,
   "metadata": {
    "collapsed": true
   },
   "outputs": [],
   "source": [
    "t=0\n",
    "while(1):\n",
    "    if Data[t]:\n",
    "        Data.append({})\n",
    "        for ElementGroup in Data[t]:\n",
    "            for Index in Unit:\n",
    "\n",
    "                if not set(list(Index))&set(list(ElementGroup)):\n",
    "                    TmpGroup=ElementGroup+Index\n",
    "\n",
    "                    if TmpGroup not in Data[t+1]:\n",
    "                        Data[t+1][TmpGroup]=0\n",
    "        TmpGroupList=[]\n",
    "        TmpList=[]\n",
    "        for Index in Data[t+1]:  # Here we delete the duplicate Transactionactions eg: 1,2,3 = 2,3,1\n",
    "            if set(Index) in TmpGroupList and Index not in TmpList:\n",
    "                TmpList.append(Index)\n",
    "            elif set(Index) not in TmpGroupList:\n",
    "                TmpGroupList.append(set(Index))\n",
    "\n",
    "        for Index in TmpList:\n",
    "            del Data[t+1][Index]\n",
    "\n",
    "        t+=1\n",
    "        for TansLine in Transaction:\n",
    "            for LKey in Data[t]:\n",
    "                if set(list(LKey))<=set(TansLine):\n",
    "                    Data[t][LKey]+=1\n",
    "\n",
    "        Items2=[]\n",
    "        for Index in Data[t]:\n",
    "            if (Data[t][Index]/NoOfTransactions)*100<MinSupport:\n",
    "                Items2.append(Index)\n",
    "        for Index in Items2:\n",
    "            del Data[t][Index]\n",
    "\n",
    "    else:\n",
    "        break"
   ]
  },
  {
   "cell_type": "code",
   "execution_count": null,
   "metadata": {
    "collapsed": true
   },
   "outputs": [],
   "source": []
  }
 ],
 "metadata": {
  "anaconda-cloud": {},
  "kernelspec": {
   "display_name": "Python [conda root]",
   "language": "python",
   "name": "conda-root-py"
  },
  "language_info": {
   "codemirror_mode": {
    "name": "ipython",
    "version": 3
   },
   "file_extension": ".py",
   "mimetype": "text/x-python",
   "name": "python",
   "nbconvert_exporter": "python",
   "pygments_lexer": "ipython3",
   "version": "3.5.2"
  }
 },
 "nbformat": 4,
 "nbformat_minor": 1
}
